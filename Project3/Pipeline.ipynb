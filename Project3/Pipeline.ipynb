{
 "cells": [
  {
   "cell_type": "code",
   "execution_count": null,
   "metadata": {},
   "outputs": [],
   "source": [
    "import numpy as np\n",
    "import numpy as np\n",
    "import sys\n",
    "sys.path.append(r\"c:\\users\\alexander\\appdata\\local\\programs\\python\\python36\\lib\\site-packages\")\n",
    "from biosppy.signals import ecg\n",
    "from dataSetup import X,y\n"
   ]
  },
  {
   "cell_type": "code",
   "execution_count": null,
   "metadata": {},
   "outputs": [],
   "source": [
    "Fs = 300 #Hz"
   ]
  },
  {
   "cell_type": "code",
   "execution_count": null,
   "metadata": {},
   "outputs": [],
   "source": [
    "X_len = 5118\n",
    "X_test_len = 3412\n",
    "\n",
    "X = []\n",
    "X_test = []\n",
    "for i in range(X_len-1):\n",
    "    sample = np.genfromtxt(\"X_train.csv\", delimiter=\",\", skip_header=1+i,skip_footer=X_len-i-2)\n",
    "    X.append(sample[1:])\n",
    "for i in range(X_test_len):\n",
    "    sample = np.genfromtxt(\"X_test.csv\", delimiter=\",\", skip_header=1 + i, skip_footer=X_test_len - i - 2)\n",
    "    X_test.append(sample[1:])\n",
    "y = np.genfromtxt(\"y_train.csv\", delimiter=\",\", skip_header=1)\n",
    "y = np.ravel(y[:,1:])"
   ]
  },
  {
   "cell_type": "code",
   "execution_count": null,
   "metadata": {},
   "outputs": [],
   "source": [
    "X = []\n",
    "sample = np.genfromtxt(\"X_train.csv\", delimiter=\",\", skip_header=1+i,skip_footer=X_len-i-2)\n",
    "    X.append(sample[1:])"
   ]
  },
  {
   "cell_type": "code",
   "execution_count": null,
   "metadata": {},
   "outputs": [],
   "source": [
    "X_sample = X[0]\n",
    "X_summary = ecg.ecg(signal=X_sample,sampling_rate = Fs,show =True)\n",
    "X_features = []\n",
    "X_features.append(np.mean(X_summary.heart_rate))\n",
    "X_features.append(np.var(X_summary.heart_rate))\n"
   ]
  }
 ],
 "metadata": {
  "kernelspec": {
   "display_name": "Python 3",
   "language": "python",
   "name": "python3"
  },
  "language_info": {
   "codemirror_mode": {
    "name": "ipython",
    "version": 3
   },
   "file_extension": ".py",
   "mimetype": "text/x-python",
   "name": "python",
   "nbconvert_exporter": "python",
   "pygments_lexer": "ipython3",
   "version": "3.6.6"
  }
 },
 "nbformat": 4,
 "nbformat_minor": 2
}
